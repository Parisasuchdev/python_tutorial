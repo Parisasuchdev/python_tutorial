{
 "cells": [
  {
   "cell_type": "markdown",
   "metadata": {},
   "source": [
    "### Python Division: [Division](https://www.hackerrank.com/challenges/python-division/problem?isFullScreen=true)\n",
    "### Find the Runner-up Score: [Problem](https://www.hackerrank.com/challenges/find-second-maximum-number-in-a-list/problem?isFullScreen=true)\n",
    "### List Comprehension: [Problem](https://www.hackerrank.com/challenges/list-comprehensions/problem?isFullScreen=true)\n",
    "### String Validators: [Problem](https://www.hackerrank.com/challenges/string-validators/problem?isFullScreen=true)\n",
    "### CHALLENGE - Alphabet Rangoli: [Problem](https://www.hackerrank.com/challenges/alphabet-rangoli/problem?isFullScreen=true)"
   ]
  },
  {
   "cell_type": "markdown",
   "metadata": {},
   "source": []
  }
 ],
 "metadata": {
  "language_info": {
   "name": "python"
  }
 },
 "nbformat": 4,
 "nbformat_minor": 2
}
