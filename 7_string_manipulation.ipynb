{
 "cells": [
  {
   "cell_type": "markdown",
   "id": "458a20b8",
   "metadata": {},
   "source": [
    "# String Manipulation\n",
    "\n",
    "In this section, you'll learn about Python's built-in string methods and formatting operations."
   ]
  },
  {
   "cell_type": "markdown",
   "id": "84da629a",
   "metadata": {},
   "source": [
    "## Defining Strings\n",
    "\n",
    "Strings in Python can be defined using either single or double quotations. They are functionally equivalent."
   ]
  },
  {
   "cell_type": "code",
   "execution_count": null,
   "id": "df57cc68",
   "metadata": {},
   "outputs": [],
   "source": [
    "x = 'a string'\n",
    "y = \"a string\"\n",
    "print(x == y)"
   ]
  },
  {
   "cell_type": "markdown",
   "id": "4e4b2605",
   "metadata": {},
   "source": [
    "### Multi-line Strings\n",
    "\n",
    "It is possible to define multi-line strings using a triple-quote syntax:"
   ]
  },
  {
   "cell_type": "code",
   "execution_count": null,
   "id": "e1f0a77b",
   "metadata": {},
   "outputs": [],
   "source": [
    "multiline = \"\"\"\n",
    "one\n",
    "two\n",
    "three\n",
    "\"\"\"\n",
    "print(multiline)"
   ]
  },
  {
   "cell_type": "markdown",
   "id": "534f2ee4",
   "metadata": {},
   "source": [
    "### Escaping Characters\n",
    "\n",
    "If you wish to use quotes inside a string, you need to escape them with a backslash (\\)."
   ]
  },
  {
   "cell_type": "code",
   "execution_count": null,
   "id": "86ecea05",
   "metadata": {},
   "outputs": [],
   "source": [
    "print(\"Jon said, \\\"Hello World\\\".\")\n",
    "print('Andrea replied, \"That\\'s nice!')"
   ]
  },
  {
   "cell_type": "markdown",
   "id": "88a7ea5c",
   "metadata": {},
   "source": [
    "## f-Strings\n",
    "\n",
    "f-Strings (formatted string literals) provide a way to embed expressions inside string literals, using curly braces `{}`. They are prefixed with `f` or `F`."
   ]
  },
  {
   "cell_type": "code",
   "execution_count": null,
   "id": "3b0d43ff",
   "metadata": {},
   "outputs": [],
   "source": [
    "# Example\n",
    "name = \"Alice\"\n",
    "age = 30\n",
    "\n",
    "# Using f-string to format the string\n",
    "print(f\"Hello, my name is {name} and I am {age} years old.\")"
   ]
  },
  {
   "cell_type": "markdown",
   "id": "6916cfc4",
   "metadata": {},
   "source": [
    "### Task: Using f-Strings\n",
    "\n",
    "1. Create variables `your_name` and `your_hobby`, and set them to your name and your favorite hobby.\n",
    "2. Use an f-string to print a sentence that includes both variables. e.g, My name is Parisa and my hobby is gardening"
   ]
  },
  {
   "cell_type": "code",
   "execution_count": null,
   "id": "7c8451b6",
   "metadata": {},
   "outputs": [],
   "source": [
    "# Task: Using f-Strings\n",
    "your_name = # Your code here\n",
    "your_hobby = # Your code here\n",
    "\n",
    "print() # Your code here"
   ]
  },
  {
   "cell_type": "markdown",
   "id": "e56def4a",
   "metadata": {},
   "source": [
    "## Simple String Manipulation\n",
    "\n",
    "For basic manipulation of strings, Python's built-in string methods can be extremely convenient."
   ]
  },
  {
   "cell_type": "markdown",
   "id": "0d5ab253",
   "metadata": {},
   "source": [
    "### Adjusting Case\n",
    "\n",
    "Python makes it quite easy to adjust the case of a string using methods like `upper()`, `lower()`, `capitalize()`, `title()`, and `swapcase()`."
   ]
  },
  {
   "cell_type": "code",
   "execution_count": null,
   "id": "4a201aa6",
   "metadata": {},
   "outputs": [],
   "source": [
    "fox = \"tHe qUICk bROWn fOx.\"\n",
    "print(fox.upper())\n",
    "print(fox.lower())\n",
    "print(fox.title())\n",
    "print(fox.capitalize())\n",
    "print(fox.swapcase())"
   ]
  },
  {
   "cell_type": "markdown",
   "id": "121c89f1",
   "metadata": {},
   "source": [
    "### Task: Adjusting Case\n",
    "\n",
    "1. Create a string `my_string` with mixed case letters.\n",
    "2. Convert the string to upper case and print it.\n",
    "3. Convert the string to lower case and print it.\n",
    "4. Capitalize the first letter of each word and print it."
   ]
  },
  {
   "cell_type": "code",
   "execution_count": null,
   "id": "2f8e2171",
   "metadata": {},
   "outputs": [],
   "source": [
    "# Task: Adjusting Case\n",
    "my_string = 'pYthOn pROgrAmmiNg'\n",
    "print() # Your code here\n",
    "print() # Your code here\n",
    "print() # Your code here"
   ]
  },
  {
   "cell_type": "code",
   "execution_count": null,
   "id": "e0a1b99f",
   "metadata": {},
   "outputs": [],
   "source": [
    "# Validation for Adjusting Case Task\n",
    "assert my_string == 'pYthOn pROgrAmmiNg', 'Adjusting case task is incorrect'\n",
    "print('Adjusting case task validated successfully!')"
   ]
  },
  {
   "cell_type": "markdown",
   "id": "ace9bc74",
   "metadata": {},
   "source": [
    "### Adding and Removing Spaces\n",
    "\n",
    "You can remove spaces from the beginning or end of the string using `strip()`, `rstrip()`, and `lstrip()` methods."
   ]
  },
  {
   "cell_type": "code",
   "execution_count": null,
   "id": "22983f11",
   "metadata": {},
   "outputs": [],
   "source": [
    "line = '         this is the content         '\n",
    "print(line.strip())\n",
    "print(line.rstrip())\n",
    "print(line.lstrip())"
   ]
  },
  {
   "cell_type": "markdown",
   "id": "e6791c38",
   "metadata": {},
   "source": [
    "### Task: Adding and Removing Spaces\n",
    "\n",
    "1. Create a string `my_line` with leading and trailing spaces.\n",
    "2. Remove the leading spaces and print the result.\n",
    "3. Remove the trailing spaces and print the result.\n",
    "4. Remove both leading and trailing spaces and print the result."
   ]
  },
  {
   "cell_type": "code",
   "execution_count": null,
   "id": "ab0cd1d7",
   "metadata": {},
   "outputs": [],
   "source": [
    "# Task: Adding and Removing Spaces\n",
    "my_line = '   Hello, World!   '\n",
    "print() # Your code here\n",
    "print() # Your code here\n",
    "print() # Your code here"
   ]
  },
  {
   "cell_type": "code",
   "execution_count": null,
   "id": "3440d38f",
   "metadata": {},
   "outputs": [],
   "source": [
    "# Validation for Adding and Removing Spaces Task\n",
    "assert my_line == '   Hello, World!   ', 'Adding and removing spaces task is incorrect'\n",
    "print('Adding and removing spaces task validated successfully!')"
   ]
  },
  {
   "cell_type": "markdown",
   "id": "e6cd0c3d",
   "metadata": {},
   "source": [
    "### Finding and Replacing Substrings\n",
    "\n",
    "To find occurrences of a certain character in a string, you can use `find()`, `rfind()`, `index()`, and `rindex()` methods. To replace a substring, use `replace()` method."
   ]
  },
  {
   "cell_type": "code",
   "execution_count": null,
   "id": "642c11a3",
   "metadata": {},
   "outputs": [],
   "source": [
    "line = 'the quick brown fox jumped over a lazy dog'\n",
    "print(line.find('fox'))\n",
    "print(line.index('fox'))\n",
    "print(line.replace('brown', 'red'))"
   ]
  },
  {
   "cell_type": "markdown",
   "id": "d7d30422",
   "metadata": {},
   "source": [
    "### Task: Finding and Replacing Substrings\n",
    "\n",
    "1. Create a string `sentence` with a sentence of your choice.\n",
    "2. Find the position of a word in the sentence and print the result.\n",
    "3. Replace a word in the sentence with another word and print the result."
   ]
  },
  {
   "cell_type": "code",
   "execution_count": null,
   "id": "77ef60e9",
   "metadata": {},
   "outputs": [],
   "source": [
    "# Task: Finding and Replacing Substrings\n",
    "sentence = 'The quick brown fox jumps over the lazy dog'\n",
    "print() # Your code here\n",
    "print()# Your code here"
   ]
  },
  {
   "cell_type": "markdown",
   "id": "5d5bda6c",
   "metadata": {},
   "source": [
    "### Splitting and Joining Strings\n",
    "\n",
    "To split a string based on a delimiter, use the `split()` method. To join strings, use the `join()` method."
   ]
  },
  {
   "cell_type": "code",
   "execution_count": null,
   "id": "b13bbce9",
   "metadata": {},
   "outputs": [],
   "source": [
    "line = 'the quick brown fox jumped over a lazy dog'\n",
    "print(line.split())\n",
    "\n",
    "words = ['the', 'quick', 'brown', 'fox']\n",
    "print(' '.join(words))"
   ]
  },
  {
   "cell_type": "markdown",
   "id": "b673e332",
   "metadata": {},
   "source": [
    "### Task: Splitting and Joining Strings\n",
    "\n",
    "1. Create a string `text` with a sentence of your choice.\n",
    "2. Split the string into a list of words and print the result.\n",
    "3. Join the list of words back into a single string and print the result."
   ]
  },
  {
   "cell_type": "code",
   "execution_count": null,
   "id": "63516716",
   "metadata": {},
   "outputs": [],
   "source": [
    "# Task: Splitting and Joining Strings\n",
    "# Your code here\n"
   ]
  },
  {
   "cell_type": "markdown",
   "id": "c17c108c",
   "metadata": {},
   "source": [
    "### Format Strings\n",
    "\n",
    "To format strings, you can use the `format()` method or f-strings. These allow you to embed expressions inside string literals, using curly braces `{}`."
   ]
  },
  {
   "cell_type": "code",
   "execution_count": null,
   "id": "a7ed7c28",
   "metadata": {},
   "outputs": [],
   "source": [
    "pi = 3.14159\n",
    "print('The value of pi is {}'.format(pi))\n",
    "print(f'The value of pi is {pi:.3f}')"
   ]
  },
  {
   "cell_type": "markdown",
   "id": "f6fa67d4",
   "metadata": {},
   "source": [
    "### Task: Format Strings\n",
    "\n",
    "1. Create a variable `name` with your name.\n",
    "2. Use the `format()` method to print a greeting message that includes your name.\n",
    "3. Use an f-string to print a greeting message that includes your name."
   ]
  },
  {
   "cell_type": "code",
   "execution_count": null,
   "id": "abec479a",
   "metadata": {},
   "outputs": [],
   "source": [
    "# Task: Format Strings\n",
    "name = 'John'\n",
    "print() # Your code here\n",
    "print() # Your code here"
   ]
  }
 ],
 "metadata": {
  "kernelspec": {
   "display_name": "base",
   "language": "python",
   "name": "python3"
  },
  "language_info": {
   "codemirror_mode": {
    "name": "ipython",
    "version": 3
   },
   "file_extension": ".py",
   "mimetype": "text/x-python",
   "name": "python",
   "nbconvert_exporter": "python",
   "pygments_lexer": "ipython3",
   "version": "3.11.7"
  }
 },
 "nbformat": 4,
 "nbformat_minor": 5
}
