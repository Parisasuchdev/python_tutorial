{
 "cells": [
  {
   "cell_type": "markdown",
   "id": "7e6e94c3",
   "metadata": {},
   "source": [
    "# Variables, Data Types\n",
    "\n",
    "In this section, you'll learn about variables and data types in Python."
   ]
  },
  {
   "cell_type": "markdown",
   "id": "b55969a1",
   "metadata": {},
   "source": [
    "## Variables\n",
    "\n",
    "Variables are used to store data that can be used and manipulated throughout your program. You can assign a value to a variable using the `=` operator."
   ]
  },
  {
   "cell_type": "code",
   "execution_count": null,
   "id": "01501e85",
   "metadata": {},
   "outputs": [],
   "source": [
    "# Example\n",
    "x = 10  # integer\n",
    "y = 3.14  # float\n",
    "name = \"Alice\"  # string\n",
    "is_student = True  # boolean\n",
    "\n",
    "print(x)\n",
    "print(y)\n",
    "print(name)\n",
    "print(is_student)"
   ]
  },
  {
   "cell_type": "markdown",
   "id": "6c964ff6",
   "metadata": {},
   "source": [
    "### Task: Create Variables\n",
    "\n",
    "1. Create an integer variable `age` with your age.\n",
    "2. Create a float variable `height` with your height in meters.\n",
    "3. Create a string variable `country` with your country of residence.\n",
    "4. Create a boolean variable `is_python_fun` set to True."
   ]
  },
  {
   "cell_type": "code",
   "execution_count": null,
   "id": "50f408dc",
   "metadata": {},
   "outputs": [],
   "source": [
    "# Task: Create Variables\n",
    "\n",
    "age = # Your code here\n",
    "height = # Your code here\n",
    "country = # Your code here\n",
    "is_python_fun = # Your code here\n",
    "\n",
    "print(age)\n",
    "print(height)\n",
    "print(country)\n",
    "print(is_python_fun)"
   ]
  },
  {
   "cell_type": "code",
   "execution_count": null,
   "id": "4823b548",
   "metadata": {},
   "outputs": [],
   "source": [
    "# Validation for Create Variables Task\n",
    "assert isinstance(age, int), 'age should be an integer'\n",
    "assert isinstance(height, float), 'height should be a float'\n",
    "assert isinstance(country, str), 'country should be a string'\n",
    "assert isinstance(is_python_fun, bool), 'is_python_fun should be a boolean'\n",
    "print('Create Variables task validated successfully!')"
   ]
  },
  {
   "cell_type": "markdown",
   "id": "fe430fc3",
   "metadata": {},
   "source": [
    "## Data Types\n",
    "\n",
    "Python has several built-in data types. The most common ones include:\n",
    "- `int` for integers\n",
    "- `float` for floating-point numbers\n",
    "- `str` for strings\n",
    "- `bool` for booleans"
   ]
  },
  {
   "cell_type": "code",
   "execution_count": null,
   "id": "bba3ac43",
   "metadata": {},
   "outputs": [],
   "source": [
    "# Example\n",
    "a = 5  # int\n",
    "b = 2.5  # float\n",
    "c = \"Hello\"  # str\n",
    "d = False  # bool\n",
    "\n",
    "print(type(a))\n",
    "print(type(b))\n",
    "print(type(c))\n",
    "print(type(d))"
   ]
  }
 ],
 "metadata": {
  "kernelspec": {
   "display_name": "python_concepts",
   "language": "python",
   "name": "python3"
  },
  "language_info": {
   "codemirror_mode": {
    "name": "ipython",
    "version": 3
   },
   "file_extension": ".py",
   "mimetype": "text/x-python",
   "name": "python",
   "nbconvert_exporter": "python",
   "pygments_lexer": "ipython3",
   "version": "3.12.4"
  }
 },
 "nbformat": 4,
 "nbformat_minor": 5
}
