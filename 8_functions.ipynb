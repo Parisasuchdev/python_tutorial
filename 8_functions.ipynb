{
 "cells": [
  {
   "cell_type": "markdown",
   "id": "0c8198ce",
   "metadata": {},
   "source": [
    "# Defining and Using Functions\n",
    "\n",
    "In this section, you'll learn how to define and use functions in Python."
   ]
  },
  {
   "cell_type": "markdown",
   "id": "1a772d25",
   "metadata": {},
   "source": [
    "## Using Functions\n",
    "\n",
    "Functions are groups of code that have a name, and can be called using parentheses. For example, `print` in Python 3 is a function:"
   ]
  },
  {
   "cell_type": "code",
   "execution_count": null,
   "id": "2dceb275",
   "metadata": {},
   "outputs": [],
   "source": [
    "print('abc')\n",
    "\n",
    "# Using keyword arguments\n",
    "print(1, 2, 3)\n",
    "print(1, 2, 3, sep='--')"
   ]
  },
  {
   "cell_type": "markdown",
   "id": "ec975cd4",
   "metadata": {},
   "source": [
    "## Defining Functions\n",
    "\n",
    "Functions are defined with the `def` statement. For example, here is a function that returns the first N Fibonacci numbers:"
   ]
  },
  {
   "cell_type": "code",
   "execution_count": null,
   "id": "816bbdc5",
   "metadata": {},
   "outputs": [],
   "source": [
    "def fibonacci(N):\n",
    "    L = []\n",
    "    a, b = 0, 1\n",
    "    while len(L) < N:\n",
    "        a, b = b, a + b\n",
    "        L.append(a)\n",
    "    return L\n",
    "\n",
    "print(fibonacci(10))"
   ]
  },
  {
   "cell_type": "markdown",
   "id": "84ac6614",
   "metadata": {},
   "source": [
    "### Task: Defining Functions\n",
    "\n",
    "1. Define a function `add_numbers` that takes two arguments and returns their sum.\n",
    "2. Define a function `multiply_numbers` that takes two arguments and returns their product.\n",
    "3. Call both functions with sample arguments and print the results."
   ]
  },
  {
   "cell_type": "code",
   "execution_count": null,
   "id": "56f625aa",
   "metadata": {},
   "outputs": [],
   "source": [
    "# Task: Defining Functions\n",
    "def add_numbers(): # Your code here\n",
    "# Your code here\n",
    "\n",
    "\n",
    "def multiply_numbers(): # Your code here\n",
    "# Your code here\n",
    "\n",
    "\n",
    "# Testing the functions\n",
    "sum_result = add_numbers(5, 7)\n",
    "product_result = multiply_numbers(5, 7)\n",
    "print(sum_result)\n",
    "print(product_result)"
   ]
  },
  {
   "cell_type": "code",
   "execution_count": null,
   "id": "5e3ce647",
   "metadata": {},
   "outputs": [],
   "source": [
    "# Validation for Functions Task\n",
    "assert add_numbers(5, 7) == 12, 'add_numbers function is incorrect'\n",
    "assert multiply_numbers(5, 7) == 35, 'multiply_numbers function is incorrect'\n",
    "print('Functions task validated successfully!')"
   ]
  }
 ],
 "metadata": {
  "language_info": {
   "name": "python"
  }
 },
 "nbformat": 4,
 "nbformat_minor": 5
}
