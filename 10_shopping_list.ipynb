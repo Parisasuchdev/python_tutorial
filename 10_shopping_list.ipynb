{
 "cells": [
  {
   "cell_type": "markdown",
   "metadata": {},
   "source": [
    "# Shopping List Manager\n",
    "## Introduction\n",
    "This notebook will help manage a shopping list with various Python concepts integrated. We will cover basic list operations, dictionary usage, functions, and user interaction through a simple console menu."
   ]
  },
  {
   "cell_type": "markdown",
   "metadata": {},
   "source": [
    "## Initial Setup\n",
    "Let's start by creating our initial shopping list and corresponding prices."
   ]
  },
  {
   "cell_type": "code",
   "execution_count": 20,
   "metadata": {},
   "outputs": [
    {
     "name": "stdout",
     "output_type": "stream",
     "text": [
      "Initial shopping list: ['apples', 'bananas', 'carrots']\n",
      "Initial item prices: {'apples': 1.5, 'bananas': 0.5, 'carrots': 0.3}\n"
     ]
    }
   ],
   "source": [
    "shopping_list = ['apples', 'bananas', 'carrots']\n",
    "item_prices = {'apples': 1.50, 'bananas': 0.50, 'carrots': 0.30}\n",
    "print('Initial shopping list:', shopping_list)\n",
    "print('Initial item prices:', item_prices)"
   ]
  },
  {
   "cell_type": "markdown",
   "metadata": {},
   "source": [
    "## Adding and Removing Items\n",
    "We will add and remove items from our shopping list and update prices accordingly."
   ]
  },
  {
   "cell_type": "markdown",
   "metadata": {},
   "source": [
    "### Adding without using functions"
   ]
  },
  {
   "cell_type": "code",
   "execution_count": 21,
   "metadata": {},
   "outputs": [
    {
     "name": "stdout",
     "output_type": "stream",
     "text": [
      "['apples', 'bananas', 'carrots', 'oranges']\n",
      "{'apples': 1.5, 'bananas': 0.5, 'carrots': 0.3, 'oranges': 2.25}\n"
     ]
    }
   ],
   "source": [
    "# Appending into List\n",
    "shopping_list.append('oranges')\n",
    "print(shopping_list)\n",
    "\n",
    "# Appending into dictionary\n",
    "item_prices['oranges'] = 2.25\n",
    "print(item_prices)"
   ]
  },
  {
   "cell_type": "markdown",
   "metadata": {},
   "source": [
    "### Removing without functions"
   ]
  },
  {
   "cell_type": "code",
   "execution_count": 22,
   "metadata": {},
   "outputs": [
    {
     "name": "stdout",
     "output_type": "stream",
     "text": [
      "['apples', 'bananas', 'carrots']\n",
      "{'apples': 1.5, 'bananas': 0.5, 'carrots': 0.3}\n"
     ]
    }
   ],
   "source": [
    "# Removing item from the list\n",
    "shopping_list.remove('oranges')\n",
    "print(shopping_list)\n",
    "\n",
    "# Removing key and value from dict\n",
    "del item_prices['oranges']\n",
    "print(item_prices)"
   ]
  },
  {
   "cell_type": "markdown",
   "metadata": {},
   "source": [
    "### Updating without functions\n",
    "\n",
    "Umm, I want to get green apples instead of just apples, how do I update the list?\n",
    "\n",
    "1. First get the index of the item\n",
    "2. For that index in the list, assign a new name\n",
    "\n",
    "\n"
   ]
  },
  {
   "cell_type": "code",
   "execution_count": 23,
   "metadata": {},
   "outputs": [
    {
     "name": "stdout",
     "output_type": "stream",
     "text": [
      "0\n"
     ]
    }
   ],
   "source": [
    "index_of_apples = shopping_list.index('apples')\n",
    "print(index_of_apples)"
   ]
  },
  {
   "cell_type": "code",
   "execution_count": 24,
   "metadata": {},
   "outputs": [
    {
     "data": {
      "text/plain": [
       "['green apples', 'bananas', 'carrots']"
      ]
     },
     "execution_count": 24,
     "metadata": {},
     "output_type": "execute_result"
    }
   ],
   "source": [
    "shopping_list[index_of_apples] = \"green apples\"\n",
    "shopping_list\n"
   ]
  },
  {
   "cell_type": "markdown",
   "metadata": {},
   "source": [
    "I also want to update my price list, how do I update the dictionary?\n",
    "\n",
    "1. push the new name by popping the old name\n",
    "2. update the price for that item"
   ]
  },
  {
   "cell_type": "code",
   "execution_count": 25,
   "metadata": {},
   "outputs": [
    {
     "data": {
      "text/plain": [
       "{'bananas': 0.5, 'carrots': 0.3, 'green apples': 1.5}"
      ]
     },
     "execution_count": 25,
     "metadata": {},
     "output_type": "execute_result"
    }
   ],
   "source": [
    "item_prices[\"green apples\"] = item_prices.pop(\"apples\")\n",
    "item_prices"
   ]
  },
  {
   "cell_type": "code",
   "execution_count": 26,
   "metadata": {},
   "outputs": [
    {
     "data": {
      "text/plain": [
       "{'bananas': 0.5, 'carrots': 0.3, 'green apples': 1.75}"
      ]
     },
     "execution_count": 26,
     "metadata": {},
     "output_type": "execute_result"
    }
   ],
   "source": [
    "item_prices['green apples'] = 1.75\n",
    "item_prices"
   ]
  },
  {
   "cell_type": "markdown",
   "metadata": {},
   "source": [
    "## What if items already exist into the shopping list?\n",
    "### We certainly don't want a duplicate shopping list"
   ]
  },
  {
   "cell_type": "code",
   "execution_count": 27,
   "metadata": {},
   "outputs": [
    {
     "name": "stdout",
     "output_type": "stream",
     "text": [
      "['green apples', 'bananas', 'carrots', 'apples']\n",
      "{'bananas': 0.5, 'carrots': 0.3, 'green apples': 1.75, 'apples': 1.5}\n"
     ]
    }
   ],
   "source": [
    "if 'apples' in shopping_list:\n",
    "    print(f\"apples are already in the shopping list.\")\n",
    "\n",
    "else:\n",
    "    shopping_list.append('apples')\n",
    "    print(shopping_list)\n",
    "    item_prices['apples'] = 1.50\n",
    "    print(item_prices)"
   ]
  },
  {
   "cell_type": "markdown",
   "metadata": {},
   "source": [
    "### We also need to check if item exists before removing it from the list\n",
    "because why waste resources? (item, computational power... money)"
   ]
  },
  {
   "cell_type": "code",
   "execution_count": 28,
   "metadata": {},
   "outputs": [
    {
     "name": "stdout",
     "output_type": "stream",
     "text": [
      "Removed apples.\n",
      "['green apples', 'bananas', 'carrots']\n"
     ]
    }
   ],
   "source": [
    "if 'apples' in shopping_list:\n",
    "        shopping_list.remove('apples')\n",
    "        del item_prices['apples']\n",
    "        print(f\"Removed {'apples'}.\")\n",
    "        print(shopping_list)\n",
    "else:\n",
    "      print(f\"{'apples'} is not in the shopping list.\")"
   ]
  },
  {
   "cell_type": "markdown",
   "metadata": {},
   "source": [
    "### Before replacing the items, we want to make sure\n",
    "1. item that we want to have replaced exists\n",
    "2. item that we want to replace it with does not already exists"
   ]
  },
  {
   "cell_type": "code",
   "execution_count": 29,
   "metadata": {},
   "outputs": [
    {
     "name": "stdout",
     "output_type": "stream",
     "text": [
      "shopping list: ['green apples', 'bananas', 'carrots']\n",
      "item prices: {'bananas': 0.5, 'carrots': 0.3, 'green apples': 1.75}\n"
     ]
    }
   ],
   "source": [
    "print('shopping list:', shopping_list)\n",
    "print('item prices:', item_prices)"
   ]
  },
  {
   "cell_type": "code",
   "execution_count": 30,
   "metadata": {},
   "outputs": [
    {
     "name": "stdout",
     "output_type": "stream",
     "text": [
      "green apples updated with apples\n"
     ]
    }
   ],
   "source": [
    "if 'green apples' in shopping_list:\n",
    "    if 'apples' not in shopping_list:\n",
    "        index = shopping_list.index('green apples')\n",
    "        shopping_list[index] = 'apples'\n",
    "        print(f\"green apples updated with apples\")\n",
    "    else:\n",
    "        print(f\"apples already exists\")\n",
    "else:\n",
    "        print(f\"green apples not in the list\")"
   ]
  },
  {
   "cell_type": "code",
   "execution_count": 32,
   "metadata": {},
   "outputs": [
    {
     "name": "stdout",
     "output_type": "stream",
     "text": [
      "green apples updated with apples and $1.5\n"
     ]
    }
   ],
   "source": [
    "if \"green apples\" in item_prices:\n",
    "    if \"apples\" not in item_prices:\n",
    "        item_prices[\"apples\"] = item_prices.pop(\"green apples\")\n",
    "        item_prices[\"apples\"] = 1.5\n",
    "        print(f\"green apples updated with apples and $1.5\")\n",
    "    else:\n",
    "        print(f\"apples already exists\")\n",
    "else:\n",
    "    print(f\"green apples not in the dict\")"
   ]
  },
  {
   "cell_type": "markdown",
   "metadata": {},
   "source": [
    "#### Well, I checked for apples. Now I need to do it for oranges, and then bananas and then onions.. That's a lot of code.\n",
    "#### I wish there was another method that doesn't require me to write a lot of code\n",
    "#### well.. there is. They are called functions"
   ]
  },
  {
   "cell_type": "markdown",
   "metadata": {},
   "source": [
    "### Adding an Item"
   ]
  },
  {
   "cell_type": "code",
   "execution_count": 33,
   "metadata": {},
   "outputs": [
    {
     "name": "stdout",
     "output_type": "stream",
     "text": [
      "Added oranges at $2.25.\n",
      "Updated shopping list: ['apples', 'bananas', 'carrots', 'oranges']\n",
      "Updated item prices: {'bananas': 0.5, 'carrots': 0.3, 'apples': 1.5, 'oranges': 2.25}\n"
     ]
    }
   ],
   "source": [
    "def add_item(item_name, price):\n",
    "    if item_name in shopping_list:\n",
    "        print(f'{item_name} is already in the shopping list.')\n",
    "    else:\n",
    "        shopping_list.append(item_name)\n",
    "        item_prices[item_name] = price\n",
    "        print(f'Added {item_name} at ${price}.')\n",
    "\n",
    "add_item('oranges', 2.25)\n",
    "print('Updated shopping list:', shopping_list)\n",
    "print('Updated item prices:', item_prices)"
   ]
  },
  {
   "cell_type": "markdown",
   "metadata": {},
   "source": [
    "### Removing an Item"
   ]
  },
  {
   "cell_type": "code",
   "execution_count": 34,
   "metadata": {},
   "outputs": [
    {
     "name": "stdout",
     "output_type": "stream",
     "text": [
      "Removed oranges.\n",
      "After removal - shopping list: ['apples', 'bananas', 'carrots']\n",
      "After removal - item prices: {'bananas': 0.5, 'carrots': 0.3, 'apples': 1.5}\n"
     ]
    }
   ],
   "source": [
    "def remove_item(item_name):\n",
    "    if item_name in shopping_list:\n",
    "        shopping_list.remove(item_name)\n",
    "        del item_prices[item_name]\n",
    "        print(f'Removed {item_name}.')\n",
    "    else:\n",
    "        print(f'{item_name} is not in the shopping list.')\n",
    "\n",
    "remove_item('oranges')\n",
    "print('After removal - shopping list:', shopping_list)\n",
    "print('After removal - item prices:', item_prices)"
   ]
  },
  {
   "cell_type": "markdown",
   "metadata": {},
   "source": [
    "## Bulk Operations\n",
    "Defining functions to handle multiple items at once."
   ]
  },
  {
   "cell_type": "markdown",
   "metadata": {},
   "source": [
    "### Adding Multiple Items"
   ]
  },
  {
   "cell_type": "code",
   "execution_count": 35,
   "metadata": {},
   "outputs": [
    {
     "name": "stdout",
     "output_type": "stream",
     "text": [
      "grapes  2.0\n",
      "Added grapes at $2.0.\n",
      " lemons  1.5\n",
      "Added lemons at $1.5.\n",
      "Bulk added - shopping list: ['apples', 'bananas', 'carrots', 'grapes', 'lemons']\n",
      "Bulk added - item prices: {'bananas': 0.5, 'carrots': 0.3, 'apples': 1.5, 'grapes': 2.0, 'lemons': 1.5}\n"
     ]
    }
   ],
   "source": [
    "def add_multiple_items(items_string):\n",
    "    items = items_string.split(',')\n",
    "    for item in items:\n",
    "        name, price = item.split(':')\n",
    "        print(name, price)\n",
    "        add_item(name.strip(), float(price.strip()))\n",
    "\n",
    "add_multiple_items('grapes: 2.0, lemons: 1.5')\n",
    "print('Bulk added - shopping list:', shopping_list)\n",
    "print('Bulk added - item prices:', item_prices)"
   ]
  },
  {
   "cell_type": "markdown",
   "metadata": {},
   "source": [
    "## Interactive Menu\n",
    "Creating a simple interactive menu for the user to add or remove items, or view the list."
   ]
  },
  {
   "cell_type": "markdown",
   "metadata": {},
   "source": [
    "### Main Menu Function"
   ]
  },
  {
   "cell_type": "code",
   "execution_count": null,
   "metadata": {},
   "outputs": [],
   "source": [
    "def main_menu():\n",
    "    while True:\n",
    "        print('1: Add item\\\n",
    "              2: Remove item\\\n",
    "              3: Show list\\\n",
    "              4: Exit')\n",
    "        choice = input('Enter your choice in numbers, from 1 - 4: ')\n",
    "        if choice == '1':\n",
    "            item_input = input('Enter item and price (e.g., mango:1.2): ')\n",
    "            add_multiple_items(item_input)\n",
    "        elif choice == '2':\n",
    "            item_name = input('Enter item name to remove: ')\n",
    "            remove_item(item_name)\n",
    "        elif choice == '3':\n",
    "            for item in shopping_list:\n",
    "                print(f'{item}: ${item_prices[item]}')\n",
    "        elif choice == '4':\n",
    "            print('Exiting.')\n",
    "            break\n",
    "        else:\n",
    "            print('Invalid choice, please try again.')\n",
    "\n",
    "# Uncomment below line to run the main menu.\n",
    "# main_menu()"
   ]
  }
 ],
 "metadata": {
  "kernelspec": {
   "display_name": "python_intro",
   "language": "python",
   "name": "python3"
  },
  "language_info": {
   "codemirror_mode": {
    "name": "ipython",
    "version": 3
   },
   "file_extension": ".py",
   "mimetype": "text/x-python",
   "name": "python",
   "nbconvert_exporter": "python",
   "pygments_lexer": "ipython3",
   "version": "3.12.4"
  }
 },
 "nbformat": 4,
 "nbformat_minor": 2
}
