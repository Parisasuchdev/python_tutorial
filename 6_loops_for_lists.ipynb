{
 "cells": [
  {
   "cell_type": "markdown",
   "id": "0a48c455",
   "metadata": {},
   "source": [
    "# Iterators and List Comprehensions\n",
    "\n",
    "In this section, you'll learn about basic loops and their interaction with lists, iterators, and list comprehensions in Python."
   ]
  },
  {
   "cell_type": "markdown",
   "id": "49aa667b",
   "metadata": {},
   "source": [
    "## Iterating over Lists\n",
    "\n",
    "Iterators are perhaps most easily understood in the concrete case of iterating through a list. The familiar \"for x in y\" syntax allows us to repeat some operation for each value in the list."
   ]
  },
  {
   "cell_type": "code",
   "execution_count": null,
   "id": "75155387",
   "metadata": {},
   "outputs": [],
   "source": [
    "for value in [2, 4, 6, 8, 10]:\n",
    "    print(value + 1, end=' ')"
   ]
  },
  {
   "cell_type": "markdown",
   "id": "13bb926e",
   "metadata": {},
   "source": [
    "### Task: Iterating over Lists\n",
    "\n",
    "1. Create a list of the first five prime numbers.\n",
    "2. Write a for loop to iterate over the list and print each number increased by 2."
   ]
  },
  {
   "cell_type": "code",
   "execution_count": null,
   "id": "c508dfde",
   "metadata": {},
   "outputs": [],
   "source": [
    "# Task: Iterating over Lists\n",
    "# Your code here\n"
   ]
  },
  {
   "cell_type": "markdown",
   "id": "b9d58c9e",
   "metadata": {},
   "source": [
    "## Useful Iterators\n",
    "\n",
    "### enumerate\n",
    "\n",
    "Often you need to iterate not only the values in an array, but also keep track of the index. Python provides a cleaner syntax using the enumerate iterator."
   ]
  },
  {
   "cell_type": "code",
   "execution_count": null,
   "id": "3359388a",
   "metadata": {},
   "outputs": [],
   "source": [
    "L = [2, 4, 6, 8, 10]\n",
    "for i, val in enumerate(L):\n",
    "    print(i, val)"
   ]
  },
  {
   "cell_type": "markdown",
   "id": "1f4e14d9",
   "metadata": {},
   "source": [
    "### Task: Using enumerate\n",
    "\n",
    "1. Create a list of the first five even numbers.\n",
    "2. Write a for loop to iterate over the list and print the index and the value of each element."
   ]
  },
  {
   "cell_type": "code",
   "execution_count": null,
   "id": "10cab342",
   "metadata": {},
   "outputs": [],
   "source": [
    "# Task: Using enumerate\n",
    "# Your code here\n",
    "even_numbers = \n"
   ]
  },
  {
   "cell_type": "markdown",
   "id": "f515fe17",
   "metadata": {},
   "source": [
    "### zip\n",
    "\n",
    "Other times, you may have multiple lists that you want to iterate over simultaneously. The zip iterator zips together iterables."
   ]
  },
  {
   "cell_type": "code",
   "execution_count": null,
   "id": "09d0647d",
   "metadata": {},
   "outputs": [],
   "source": [
    "L = [2, 4, 6, 8, 10]\n",
    "R = [3, 6, 9, 12, 15]\n",
    "for lval, rval in zip(L, R):\n",
    "    print(lval, rval)"
   ]
  },
  {
   "cell_type": "markdown",
   "id": "bc0991ef",
   "metadata": {},
   "source": [
    "### Task: Using zip\n",
    "\n",
    "1. Create two lists, one with the first five odd numbers and another with the first five even numbers.\n",
    "2. Write a for loop to iterate over both lists and print the elements from both lists side by side."
   ]
  },
  {
   "cell_type": "code",
   "execution_count": null,
   "id": "19a7a447",
   "metadata": {},
   "outputs": [],
   "source": [
    "# Task: Using zip\n",
    "# Your code here\n",
    "odd_numbers = \n",
    "even_numbers = \n"
   ]
  },
  {
   "cell_type": "markdown",
   "id": "cba197f6",
   "metadata": {},
   "source": [
    "## List Comprehensions\n",
    "\n",
    "List comprehensions provide a concise way to create lists. Common applications are to make new lists where each element is the result of some operations applied to each member of another sequence or iterable."
   ]
  },
  {
   "cell_type": "code",
   "execution_count": null,
   "id": "3c061d0b",
   "metadata": {},
   "outputs": [],
   "source": [
    "# Example\n",
    "squares = [x**2 for x in range(10)]\n",
    "print(squares)"
   ]
  },
  {
   "cell_type": "markdown",
   "id": "d34ea6af",
   "metadata": {},
   "source": [
    "### Task: Using List Comprehensions\n",
    "\n",
    "1. Create a list comprehension to generate a list of the first ten square roots\n",
    "2. Print the list."
   ]
  },
  {
   "cell_type": "code",
   "execution_count": null,
   "id": "5919b506",
   "metadata": {},
   "outputs": [],
   "source": [
    "# Task: Using List Comprehensions\n",
    "# Your code here\n",
    "squares = \n"
   ]
  },
  {
   "cell_type": "code",
   "execution_count": null,
   "id": "83c02911",
   "metadata": {},
   "outputs": [],
   "source": [
    "# Validation for List Comprehensions Task\n",
    "assert squares == [0.0, 1.0, 1.4142135623730951, 1.7320508075688772, 2.0, 2.23606797749979, 2.449489742783178, 2.6457513110645907, 2.8284271247461903, 3.0], 'List comprehensions task is incorrect'\n",
    "print('List comprehensions task validated successfully!')"
   ]
  }
 ],
 "metadata": {
  "kernelspec": {
   "display_name": "python_concepts",
   "language": "python",
   "name": "python3"
  },
  "language_info": {
   "codemirror_mode": {
    "name": "ipython",
    "version": 3
   },
   "file_extension": ".py",
   "mimetype": "text/x-python",
   "name": "python",
   "nbconvert_exporter": "python",
   "pygments_lexer": "ipython3",
   "version": "3.12.4"
  }
 },
 "nbformat": 4,
 "nbformat_minor": 5
}
