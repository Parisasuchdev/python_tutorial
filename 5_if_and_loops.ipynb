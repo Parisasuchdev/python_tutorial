{
 "cells": [
  {
   "cell_type": "markdown",
   "id": "b41d5f18",
   "metadata": {},
   "source": [
    "# Control Flow\n",
    "\n",
    "In this section, you'll learn about control flow in Python, including if statements, for loops, while loops, and the break and continue statements."
   ]
  },
  {
   "cell_type": "markdown",
   "id": "67de65e1",
   "metadata": {},
   "source": [
    "## Conditional Statements: if-elif-else\n",
    "\n",
    "Conditional statements allow the programmer to execute certain pieces of code depending on some Boolean condition."
   ]
  },
  {
   "cell_type": "code",
   "execution_count": null,
   "id": "c021761f",
   "metadata": {},
   "outputs": [],
   "source": [
    "x = -15\n",
    "\n",
    "if x == 0:\n",
    "    print(x, \"is zero\")\n",
    "elif x > 0:\n",
    "    print(x, \"is positive\")\n",
    "elif x < 0:\n",
    "    print(x, \"is negative\")\n",
    "else:\n",
    "    print(x, \"is unlike anything I've ever seen...\")"
   ]
  },
  {
   "cell_type": "markdown",
   "id": "942f4cce",
   "metadata": {},
   "source": [
    "### Task: Using if-elif-else Statements\n",
    "\n",
    "1. Create a variable `number` and set it to a value of your choice.\n",
    "2. Write an if-elif-else statement to check if the number is positive, negative, or zero and print the result."
   ]
  },
  {
   "cell_type": "code",
   "execution_count": null,
   "id": "b1e09391",
   "metadata": {},
   "outputs": [],
   "source": [
    "# Task: Using if-elif-else Statements\n",
    "# Your code here\n",
    "number = \n",
    "\n",
    "# Your code here\n",
    "    print(\"The number is positive.\")\n",
    "\n",
    "# Your code here\n",
    "    print(\"The number is negative.\")\n",
    "\n",
    "# Your code here\n",
    "    print(\"The number is zero.\")"
   ]
  },
  {
   "cell_type": "code",
   "execution_count": null,
   "id": "58c88edf",
   "metadata": {},
   "outputs": [],
   "source": [
    "# Validation for if-elif-else Task\n",
    "assert 'number' in locals(), 'Variable number is not defined'\n",
    "assert isinstance(number, (int, float)), 'number should be an integer or float'\n",
    "print('if-elif-else task validated successfully!')"
   ]
  },
  {
   "cell_type": "markdown",
   "id": "73c63632",
   "metadata": {},
   "source": [
    "## for Loops\n",
    "\n",
    "Loops in Python are a way to repeatedly execute some code statement. The Python for loop is considered a \"foreach\" loop in other languages."
   ]
  },
  {
   "cell_type": "code",
   "execution_count": null,
   "id": "215b8a95",
   "metadata": {},
   "outputs": [],
   "source": [
    "for N in [2, 3, 5, 7]:\n",
    "    print(N, end=' ')"
   ]
  },
  {
   "cell_type": "markdown",
   "id": "6a142ff8",
   "metadata": {},
   "source": [
    "### Task: Using for Loops\n",
    "\n",
    "1. Create a list of the first five even numbers.\n",
    "2. Write a for loop to iterate over the list and print each number."
   ]
  },
  {
   "cell_type": "code",
   "execution_count": null,
   "id": "a06ca936",
   "metadata": {},
   "outputs": [],
   "source": [
    "# Task: Using for Loops\n",
    "even_numbers = # Your code here\n",
    "\n",
    "\n",
    "for num in even_numbers:\n",
    "    print(num, end=' ')"
   ]
  },
  {
   "cell_type": "code",
   "execution_count": null,
   "id": "0f750ba2",
   "metadata": {},
   "outputs": [],
   "source": [
    "# Validation for for Loops Task\n",
    "assert 'even_numbers' in locals(), 'Variable even_numbers is not defined'\n",
    "assert all(isinstance(num, int) and num % 2 == 0 for num in even_numbers), 'even_numbers should be a list of even integers'\n",
    "print('for Loops task validated successfully!')"
   ]
  },
  {
   "cell_type": "markdown",
   "id": "7ea90ccb",
   "metadata": {},
   "source": [
    "## while Loops\n",
    "\n",
    "The while loop iterates until some condition is met."
   ]
  },
  {
   "cell_type": "code",
   "execution_count": null,
   "id": "8012cb3b",
   "metadata": {},
   "outputs": [],
   "source": [
    "i = 0\n",
    "while i < 10:\n",
    "    print(i, end=' ')\n",
    "    i += 1"
   ]
  },
  {
   "cell_type": "markdown",
   "id": "d28c1366",
   "metadata": {},
   "source": [
    "### Task: Using while Loops\n",
    "\n",
    "1. Create a variable `count` and set it to 0.\n",
    "2. Write a while loop to print all the numbers from 0 to 9."
   ]
  },
  {
   "cell_type": "code",
   "execution_count": null,
   "id": "33dc7ad6",
   "metadata": {},
   "outputs": [],
   "source": [
    "# Task: Using while Loops\n",
    "count = # Your code here\n",
    "\n",
    "# Your code here\n",
    "    print(count, end=' ')\n",
    "    # Your code here"
   ]
  },
  {
   "cell_type": "code",
   "execution_count": null,
   "id": "12ca47ef",
   "metadata": {},
   "outputs": [],
   "source": [
    "# Validation for while Loops Task\n",
    "assert 'count' in locals(), 'Variable count is not defined'\n",
    "print('while Loops task validated successfully!')"
   ]
  },
  {
   "cell_type": "markdown",
   "id": "b551c512",
   "metadata": {},
   "source": [
    "## break and continue: Fine-Tuning Your Loops\n",
    "\n",
    "The `break` statement breaks out of the loop entirely. The `continue` statement skips the remainder of the current loop, and goes to the next iteration."
   ]
  },
  {
   "cell_type": "code",
   "execution_count": null,
   "id": "ef62d1f1",
   "metadata": {},
   "outputs": [],
   "source": [
    "# Using continue to print odd numbers\n",
    "for n in range(20):\n",
    "    if n % 2 == 0:\n",
    "        continue\n",
    "    print(n, end=' ')"
   ]
  },
  {
   "cell_type": "code",
   "execution_count": null,
   "id": "4741cc8f",
   "metadata": {},
   "outputs": [],
   "source": [
    "# Using break to find Fibonacci numbers up to a certain value\n",
    "a, b = 0, 1\n",
    "amax = 100\n",
    "L = []\n",
    "\n",
    "while True:\n",
    "    (a, b) = (b, a + b)\n",
    "    if a > amax:\n",
    "        break\n",
    "    L.append(a)\n",
    "\n",
    "print(L)"
   ]
  },
  {
   "cell_type": "markdown",
   "id": "6345ddd5",
   "metadata": {},
   "source": [
    "### Task: Using break and continue\n",
    "\n",
    "1. Write a for loop to print all the numbers from 0 to 9, but use the `continue` statement to skip the number 5.\n",
    "2. Write a while loop to print the Fibonacci sequence up to 50, using the `break` statement to exit the loop."
   ]
  },
  {
   "cell_type": "code",
   "execution_count": null,
   "id": "b987d564",
   "metadata": {},
   "outputs": [],
   "source": [
    "# Task: Using break and continue\n",
    "\n",
    "# Task 1: Using continue\n",
    "for i in range(10):\n",
    "    # Your code here\n",
    "    print(i, end=' ')\n",
    "\n",
    "print()\n",
    "\n",
    "# Task 2: Using break\n",
    "a, b = 0, 1\n",
    "L = []\n",
    "\n",
    "while True:\n",
    "    # Your code here\n",
    "    L.append(a)\n",
    "    a, b = # Your code here\n",
    "\n",
    "print(L)"
   ]
  },
  {
   "cell_type": "code",
   "execution_count": null,
   "id": "d946a529",
   "metadata": {},
   "outputs": [],
   "source": [
    "# Validation for break and continue Task\n",
    "assert L[-1] <= 50, 'The Fibonacci sequence should be up to 50'\n",
    "print('break and continue task validated successfully!')"
   ]
  }
 ],
 "metadata": {
  "kernelspec": {
   "display_name": "python_concepts",
   "language": "python",
   "name": "python3"
  },
  "language_info": {
   "codemirror_mode": {
    "name": "ipython",
    "version": 3
   },
   "file_extension": ".py",
   "mimetype": "text/x-python",
   "name": "python",
   "nbconvert_exporter": "python",
   "pygments_lexer": "ipython3",
   "version": "3.12.4"
  }
 },
 "nbformat": 4,
 "nbformat_minor": 5
}
