{
 "cells": [
  {
   "cell_type": "markdown",
   "id": "e647fea3",
   "metadata": {},
   "source": [
    "# Built-In Data Structures\n",
    "\n",
    "In this section, you'll learn about Python's built-in data structures: lists, tuples, dictionaries, and sets."
   ]
  },
  {
   "cell_type": "markdown",
   "id": "9b2fa287",
   "metadata": {},
   "source": [
    "## Lists\n",
    "\n",
    "Lists are the basic ordered and mutable data collection type in Python. They can be defined with comma-separated values between square brackets; for example, here is a list of the first several prime numbers:"
   ]
  },
  {
   "cell_type": "code",
   "execution_count": null,
   "id": "643fb822",
   "metadata": {},
   "outputs": [],
   "source": [
    "L = [2, 3, 5, 7]\n",
    "print(L)\n",
    "\n",
    "# Length of a list\n",
    "print(len(L))\n",
    "\n",
    "# Append a value to the end\n",
    "L.append(11)\n",
    "print(L)\n",
    "\n",
    "# Addition concatenates lists\n",
    "print(L + [13, 17, 19])\n",
    "\n",
    "# sort() method sorts in-place\n",
    "L = [2, 5, 1, 6, 3, 4]\n",
    "L.sort()\n",
    "print(L)"
   ]
  },
  {
   "cell_type": "markdown",
   "id": "68baf4a6",
   "metadata": {},
   "source": [
    "### Task: Working with Lists\n",
    "\n",
    "1. Create a list of the first five odd numbers.\n",
    "2. Append the number 11 to the list.\n",
    "3. Concatenate the list with another list of the next three odd numbers.\n",
    "4. Sort the final list."
   ]
  },
  {
   "cell_type": "code",
   "execution_count": null,
   "id": "2d48d6ac",
   "metadata": {},
   "outputs": [],
   "source": [
    "# Task: Working with Lists\n",
    "odd_numbers = # Your code here\n",
    "odd_numbers. # Your code here\n",
    "print(odd_numbers)\n",
    "\n",
    "odd_numbers =  # Your code here\n",
    "print(odd_numbers)\n",
    "\n",
    "odd_numbers\n",
    "print(odd_numbers)"
   ]
  },
  {
   "cell_type": "code",
   "execution_count": null,
   "id": "7e548633",
   "metadata": {},
   "outputs": [],
   "source": [
    "# Validation for Lists Task\n",
    "assert odd_numbers == [1, 3, 5, 7, 9, 11, 13, 15, 17], 'List task is incorrect'\n",
    "print('Lists task validated successfully!')"
   ]
  },
  {
   "cell_type": "markdown",
   "id": "9a3289a3",
   "metadata": {},
   "source": [
    "## Tuples\n",
    "\n",
    "Tuples are similar to lists, but they are immutable. They can be defined with comma-separated values between parentheses:"
   ]
  },
  {
   "cell_type": "code",
   "execution_count": null,
   "id": "8cd9a8ed",
   "metadata": {},
   "outputs": [],
   "source": [
    "t = (1, 2, 3)\n",
    "print(t)\n",
    "\n",
    "# Length of a tuple\n",
    "print(len(t))\n",
    "\n",
    "# Accessing elements\n",
    "print(t[0])\n",
    "print(t[1])\n",
    "print(t[2])\n"
   ]
  },
  {
   "cell_type": "markdown",
   "id": "569f1b6f",
   "metadata": {},
   "source": [
    "### Task: Working with Tuples\n",
    "\n",
    "1. Create a tuple with the first five prime numbers.\n",
    "2. Print the length of the tuple.\n",
    "3. Access and print the second and fourth elements of the tuple."
   ]
  },
  {
   "cell_type": "code",
   "execution_count": null,
   "id": "5597787f",
   "metadata": {},
   "outputs": [],
   "source": [
    "# Task: Working with Tuples\n",
    "prime_numbers = (2, 3, 5, 7, 11)\n",
    "print() # Your code here\n",
    "print() # Your code here\n",
    "print() # Your code here"
   ]
  },
  {
   "cell_type": "code",
   "execution_count": null,
   "id": "b9f8e1d4",
   "metadata": {},
   "outputs": [],
   "source": [
    "# Validation for Tuples Task\n",
    "assert len(prime_numbers) == 5, 'The length of the tuple is incorrect'\n",
    "assert prime_numbers[1] == 3, 'The second element is incorrect'\n",
    "assert prime_numbers[3] == 7, 'The fourth element is incorrect'\n",
    "\n",
    "print('Tuples task validated successfully!')"
   ]
  },
  {
   "cell_type": "markdown",
   "id": "6fd6d908",
   "metadata": {},
   "source": [
    "## Dictionaries\n",
    "\n",
    "Dictionaries are unordered collections of key-value pairs. They can be created with a comma-separated list of key-value pairs within curly braces:"
   ]
  },
  {
   "cell_type": "code",
   "execution_count": null,
   "id": "225197b8",
   "metadata": {},
   "outputs": [],
   "source": [
    "numbers = {'one':1, 'two':2, 'three':3}\n",
    "print(numbers)\n",
    "\n",
    "# Accessing a value\n",
    "print(numbers['two'])\n",
    "\n",
    "# Adding a new key-value pair\n",
    "numbers['four'] = 4\n",
    "print(numbers)"
   ]
  },
  {
   "cell_type": "markdown",
   "id": "ecb96b78",
   "metadata": {},
   "source": [
    "### Task: Working with Dictionaries\n",
    "\n",
    "1. Create a dictionary with three key-value pairs representing a person's name, age, and city.\n",
    "2. Access and print the person's age.\n",
    "3. Add a new key-value pair for the person's occupation and print the dictionary."
   ]
  },
  {
   "cell_type": "code",
   "execution_count": null,
   "id": "3781f284",
   "metadata": {},
   "outputs": [],
   "source": [
    "# Task: Working with Dictionaries\n",
    "# Your code here\n",
    "person = # Your code here\n",
    "print() # Your code here\n",
    "person[] =  # Your code here\n",
    "print(person)"
   ]
  },
  {
   "cell_type": "code",
   "execution_count": null,
   "id": "8b801c0c",
   "metadata": {},
   "outputs": [],
   "source": [
    "# Validation for Dictionaries Task\n",
    "assert person == {'name': 'Alice', 'age': 30, 'city': 'New York', 'occupation': 'Engineer'}, 'Dictionary task is incorrect'\n",
    "print('Dictionaries task validated successfully!')"
   ]
  },
  {
   "cell_type": "markdown",
   "id": "c8b836bb",
   "metadata": {},
   "source": [
    "## Sets\n",
    "\n",
    "Sets are unordered collections of unique values. They can be defined with comma-separated values between curly braces:"
   ]
  },
  {
   "cell_type": "code",
   "execution_count": null,
   "id": "feea0015",
   "metadata": {},
   "outputs": [],
   "source": [
    "primes = {2, 3, 5, 7}\n",
    "odds = {1, 3, 5, 7, 9}\n",
    "print(primes)\n",
    "print(odds)\n",
    "\n",
    "# Union of sets\n",
    "print(primes | odds)\n",
    "\n",
    "# Intersection of sets\n",
    "print(primes & odds)\n",
    "\n",
    "# Difference of sets\n",
    "print(primes - odds)\n",
    "\n",
    "# Symmetric difference of sets\n",
    "print(primes ^ odds)"
   ]
  },
  {
   "cell_type": "markdown",
   "id": "21b37a79",
   "metadata": {},
   "source": [
    "### Task: Working with Sets\n",
    "\n",
    "1. Create a set of the first five prime numbers.\n",
    "2. Create a set of the first five even numbers.\n",
    "3. Find and print the union, intersection, difference, and symmetric difference of the two sets."
   ]
  },
  {
   "cell_type": "code",
   "execution_count": null,
   "id": "fe4c9f37",
   "metadata": {},
   "outputs": [],
   "source": [
    "# Task: Working with Sets\n",
    "# Your code here\n",
    "primes = {2, 3, 5, 7, 11}\n",
    "evens = {2, 4, 6, 8, 10}\n",
    "\n",
    "# Find and print the union of the two sets\n",
    "union_set = # Your code here\n",
    "print(union_set)\n",
    "\n",
    "# Find and print the intersection of the two sets\n",
    "intersection_set = # Your code here\n",
    "print(intersection_set)\n",
    "\n",
    "# Find and print the difference of the two sets (primes - evens)\n",
    "difference_set = # Your code here\n",
    "print(difference_set)\n",
    "\n",
    "# Find and print the symmetric difference of the two sets\n",
    "symmetric_difference_set = # Your code here\n",
    "print(symmetric_difference_set)\n",
    "\n"
   ]
  },
  {
   "cell_type": "code",
   "execution_count": null,
   "id": "e0ea4151",
   "metadata": {},
   "outputs": [],
   "source": [
    "# Validation for Sets Task\n",
    "\n",
    "assert union_set == {2, 3, 4, 5, 6, 7, 8, 10, 11}, 'Union is incorrect'\n",
    "assert intersection_set == {2}, 'Intersection is incorrect'\n",
    "assert difference_set == {3, 5, 7, 11}, 'Difference is incorrect'\n",
    "assert symmetric_difference_set == {3, 4, 5, 6, 7, 8, 10, 11}, 'Symmetric difference is incorrect'\n",
    "\n",
    "print('Sets task validated successfully!')\n"
   ]
  }
 ],
 "metadata": {
  "kernelspec": {
   "display_name": "base",
   "language": "python",
   "name": "python3"
  },
  "language_info": {
   "codemirror_mode": {
    "name": "ipython",
    "version": 3
   },
   "file_extension": ".py",
   "mimetype": "text/x-python",
   "name": "python",
   "nbconvert_exporter": "python",
   "pygments_lexer": "ipython3",
   "version": "3.11.7"
  }
 },
 "nbformat": 4,
 "nbformat_minor": 5
}
