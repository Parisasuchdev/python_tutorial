{
 "cells": [
  {
   "cell_type": "markdown",
   "metadata": {},
   "source": [
    "- **Interpreted Language**\n",
    "  - Python is distinguished from other programming languages because it is interpreted rather than compiled.\n",
    "  - This means that Python code is executed line by line.\n",
    "  - This allows for interactive programming, unlike compiled languages such as Fortran, C, or Java."
   ]
  },
  {
   "cell_type": "markdown",
   "metadata": {},
   "source": [
    "- **Docstrings**\n",
    "  - Well-written Python code contains docstrings (short for documentation strings).\n",
    "  - These strings offer help and tutorials for what the code does.\n",
    "  - IPython makes it easy to access these strings during an interactive session.\n",
    "    - Simply append `?` to the name of the object, function, or method to access the docstring.\n",
    "    ```bash\n",
    "    x = 'foo'\n",
    "    x.join?\n",
    "    ```\n"
   ]
  }
 ],
 "metadata": {
  "kernelspec": {
   "display_name": "Python 3",
   "language": "python",
   "name": "python3"
  },
  "language_info": {
   "codemirror_mode": {
    "name": "ipython",
    "version": 3
   },
   "file_extension": ".py",
   "mimetype": "text/x-python",
   "name": "python",
   "nbconvert_exporter": "python",
   "pygments_lexer": "ipython3",
   "version": "3.8.5"
  }
 },
 "nbformat": 4,
 "nbformat_minor": 4
}
