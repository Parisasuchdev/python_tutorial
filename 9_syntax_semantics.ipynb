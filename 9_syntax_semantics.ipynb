{
 "cells": [
  {
   "cell_type": "code",
   "execution_count": 1,
   "metadata": {},
   "outputs": [
    {
     "name": "stdout",
     "output_type": "stream",
     "text": [
      "lower: [0, 1, 2, 3, 4]\n",
      "upper: [5, 6, 7, 8, 9]\n"
     ]
    }
   ],
   "source": [
    "# set the midpoint\n",
    "midpoint = 5\n",
    "num_range = 10\n",
    "\n",
    "# make two empty lists\n",
    "lower = []; upper = []\n",
    "\n",
    "# split the numbers into lower and upper\n",
    "for i in range(num_range):\n",
    "    if i < midpoint:\n",
    "        lower.append(i)\n",
    "    else:\n",
    "        upper.append(i)\n",
    "        \n",
    "print(\"lower:\", lower)\n",
    "print(\"upper:\", upper)"
   ]
  },
  {
   "cell_type": "code",
   "execution_count": 4,
   "metadata": {},
   "outputs": [],
   "source": [
    "def split_numbers(midpoint, num_range):\n",
    "    lower = []\n",
    "    upper = []\n",
    "    \n",
    "    for i in range(num_range):\n",
    "        if i < midpoint:\n",
    "            lower.append(i)\n",
    "        else:\n",
    "            upper.append(i)\n",
    "    \n",
    "    return lower, upper"
   ]
  },
  {
   "cell_type": "code",
   "execution_count": 5,
   "metadata": {},
   "outputs": [
    {
     "name": "stdout",
     "output_type": "stream",
     "text": [
      "lower: [0, 1, 2, 3, 4]\n",
      "upper: [5, 6, 7, 8, 9]\n"
     ]
    }
   ],
   "source": [
    "midpoint = 5\n",
    "num_range = 10\n",
    "lower_numbers, upper_numbers = split_numbers(midpoint, num_range)\n",
    "\n",
    "print(\"lower:\", lower_numbers)\n",
    "print(\"upper:\", upper_numbers)"
   ]
  },
  {
   "cell_type": "code",
   "execution_count": 6,
   "metadata": {},
   "outputs": [
    {
     "name": "stdout",
     "output_type": "stream",
     "text": [
      "lower: [0, 1, 2, 3, 4, 5, 6, 7, 8, 9]\n",
      "upper: [10, 11, 12, 13, 14, 15, 16, 17, 18, 19]\n"
     ]
    }
   ],
   "source": [
    "midpoint = 10\n",
    "num_range = 20\n",
    "lower_numbers, upper_numbers = split_numbers(midpoint, num_range)\n",
    "\n",
    "print(\"lower:\", lower_numbers)\n",
    "print(\"upper:\", upper_numbers)"
   ]
  }
 ],
 "metadata": {
  "kernelspec": {
   "display_name": "python_concepts",
   "language": "python",
   "name": "python3"
  },
  "language_info": {
   "codemirror_mode": {
    "name": "ipython",
    "version": 3
   },
   "file_extension": ".py",
   "mimetype": "text/x-python",
   "name": "python",
   "nbconvert_exporter": "python",
   "pygments_lexer": "ipython3",
   "version": "3.12.4"
  }
 },
 "nbformat": 4,
 "nbformat_minor": 2
}
