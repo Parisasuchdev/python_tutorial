{
 "cells": [
  {
   "cell_type": "markdown",
   "id": "ce575c95",
   "metadata": {},
   "source": [
    "# Basic Operations\n",
    "\n",
    "In this section, you'll learn about basic arithmetic operations in Python."
   ]
  },
  {
   "cell_type": "markdown",
   "id": "acc1e5ed",
   "metadata": {},
   "source": [
    "## Arithmetic Operations\n",
    "\n",
    "Python supports various arithmetic operations like addition, subtraction, multiplication, and division."
   ]
  },
  {
   "cell_type": "code",
   "execution_count": null,
   "id": "fdd663d8",
   "metadata": {},
   "outputs": [],
   "source": [
    "# Example\n",
    "a = 15\n",
    "b = 4\n",
    "\n",
    "print(\"Addition:\", a + b)\n",
    "print(\"Subtraction:\", a - b)\n",
    "print(\"Multiplication:\", a * b)\n",
    "print(\"Division:\", a / b)\n",
    "print(\"Integer Division:\", a // b)\n",
    "print(\"Modulus:\", a % b)\n",
    "print(\"Exponentiation:\", a ** b)"
   ]
  },
  {
   "cell_type": "markdown",
   "id": "ae2fe343",
   "metadata": {},
   "source": [
    "### Task: Basic Operations\n",
    "\n",
    "Perform the following operations and print the results:\n",
    "1. Add 7 and 3\n",
    "2. Subtract 8 from 20\n",
    "3. Multiply 4 by 5\n",
    "4. Divide 16 by 2\n",
    "5. Find the integer division of 18 by 7\n",
    "6. Find the modulus of 9 and 2\n",
    "7. Calculate 3 to the power of 4"
   ]
  },
  {
   "cell_type": "code",
   "execution_count": null,
   "id": "9c6adbbc",
   "metadata": {},
   "outputs": [],
   "source": [
    "# Task: Basic Operations\n",
    "\n",
    "add_result = # Your code here\n",
    "sub_result =  # Your code here\n",
    "mul_result =  # Your code here\n",
    "div_result = # Your code here\n",
    "int_div_result = # Your code here\n",
    "mod_result = # Your code here\n",
    "exp_result = # Your code here\n",
    "\n",
    "print(\"Addition:\", add_result)\n",
    "print(\"Subtraction:\", sub_result)\n",
    "print(\"Multiplication:\", mul_result)\n",
    "print(\"Division:\", div_result)\n",
    "print(\"Integer Division:\", int_div_result)\n",
    "print(\"Modulus:\", mod_result)\n",
    "print(\"Exponentiation:\", exp_result)"
   ]
  },
  {
   "cell_type": "code",
   "execution_count": null,
   "id": "2ef73e3c",
   "metadata": {},
   "outputs": [],
   "source": [
    "# Validation for Basic Operations Task\n",
    "assert add_result == 10, 'Addition result is incorrect'\n",
    "assert sub_result == 12, 'Subtraction result is incorrect'\n",
    "assert mul_result == 20, 'Multiplication result is incorrect'\n",
    "assert div_result == 8.0, 'Division result is incorrect'\n",
    "assert int_div_result == 2, 'Integer division result is incorrect'\n",
    "assert mod_result == 1, 'Modulus result is incorrect'\n",
    "assert exp_result == 81, 'Exponentiation result is incorrect'\n",
    "print('Basic Operations task validated successfully!')"
   ]
  }
 ],
 "metadata": {
  "kernelspec": {
   "display_name": "python_concepts",
   "language": "python",
   "name": "python3"
  },
  "language_info": {
   "codemirror_mode": {
    "name": "ipython",
    "version": 3
   },
   "file_extension": ".py",
   "mimetype": "text/x-python",
   "name": "python",
   "nbconvert_exporter": "python",
   "pygments_lexer": "ipython3",
   "version": "3.12.4"
  }
 },
 "nbformat": 4,
 "nbformat_minor": 5
}
